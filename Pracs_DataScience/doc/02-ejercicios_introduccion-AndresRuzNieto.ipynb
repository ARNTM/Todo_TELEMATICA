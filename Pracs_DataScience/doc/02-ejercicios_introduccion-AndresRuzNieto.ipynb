{
 "metadata": {
  "language_info": {
   "codemirror_mode": {
    "name": "ipython",
    "version": 3
   },
   "file_extension": ".py",
   "mimetype": "text/x-python",
   "name": "python",
   "nbconvert_exporter": "python",
   "pygments_lexer": "ipython3",
   "version": "3.9.1-final"
  },
  "orig_nbformat": 2,
  "kernelspec": {
   "name": "python3",
   "display_name": "Python 3.9.1 64-bit ('IDS': conda)",
   "metadata": {
    "interpreter": {
     "hash": "71b039fbb0b59cc515a7c793a70536b360381f361289ca6d349cfa718edb108c"
    }
   }
  }
 },
 "nbformat": 4,
 "nbformat_minor": 2,
 "cells": [
  {
   "source": [
    "## EJERCICIO 1"
   ],
   "cell_type": "markdown",
   "metadata": {}
  },
  {
   "cell_type": "code",
   "execution_count": 5,
   "metadata": {},
   "outputs": [
    {
     "output_type": "stream",
     "name": "stdout",
     "text": [
      "3.141592753589808\n"
     ]
    }
   ],
   "source": [
    "import numpy as np\n",
    "\n",
    "n = int(input(\"Introduce un número entero: \"))\n",
    "\n",
    "# FORMA INCIAL - EJERCICIO 1\n",
    "#final = 0\n",
    "# for i in range(n):\n",
    "#    final += 4 * (((-1) ** i) / (2 * i + 1))\n",
    "#print(\"Resultado del ejercicio 1: \", final)\n",
    "\n",
    "print(\n",
    "    np.array(\n",
    "        [4 * (((-1) ** i) / (2 * i + 1)) for i in range(n)]\n",
    "    ).sum()\n",
    ")"
   ]
  },
  {
   "source": [
    "## EJERCICIO 2"
   ],
   "cell_type": "markdown",
   "metadata": {}
  },
  {
   "cell_type": "code",
   "execution_count": 22,
   "metadata": {},
   "outputs": [
    {
     "output_type": "stream",
     "name": "stdout",
     "text": [
      "11\n22\n33\n44\n55\n66\n77\n88\n99\n110\n"
     ]
    }
   ],
   "source": [
    "n = int(input(\"Introduce el número del que quieres generar la tabla de multiplicar: \"))\n",
    "for i in range(1,11):\n",
    "    print(i * n)"
   ]
  },
  {
   "source": [
    "## EJERCICIO 3"
   ],
   "cell_type": "markdown",
   "metadata": {}
  },
  {
   "cell_type": "code",
   "execution_count": 23,
   "metadata": {},
   "outputs": [
    {
     "output_type": "stream",
     "name": "stdout",
     "text": [
      "\n1 \n"
     ]
    }
   ],
   "source": [
    "n = int(input(\"Número de filas del patrón: \"))\n",
    "for i in range(n + 1):\n",
    "    for j in range(i):\n",
    "        print(j + 1, end=\" \")\n",
    "    print()"
   ]
  },
  {
   "source": [
    "## EJERCICIO 4"
   ],
   "cell_type": "markdown",
   "metadata": {}
  },
  {
   "cell_type": "code",
   "execution_count": 25,
   "metadata": {},
   "outputs": [
    {
     "output_type": "stream",
     "name": "stdout",
     "text": [
      "No es primo, el número 5 es divisor\n"
     ]
    }
   ],
   "source": [
    "primo = False\n",
    "n = int(input(\"Introduce un número: \"))\n",
    "for i in range(2, n):\n",
    "    if n % i == 0:\n",
    "        print(f\"No es primo, el número {i} es divisor\")\n",
    "        primo = True\n",
    "        break\n",
    "if not primo:\n",
    "    print(f\"El número {n} es primo\")"
   ]
  },
  {
   "source": [
    "## EJERCICIO 5"
   ],
   "cell_type": "markdown",
   "metadata": {}
  },
  {
   "cell_type": "code",
   "execution_count": 26,
   "metadata": {},
   "outputs": [
    {
     "output_type": "stream",
     "name": "stdout",
     "text": [
      "True\n"
     ]
    }
   ],
   "source": [
    "def esprimo(n):\n",
    "    ''' Devuelve \"True\" si el numero es primo, y \"False\" si no lo es '''\n",
    "    for i in range(2, n):\n",
    "        if n % i == 0:\n",
    "            return False\n",
    "    return True\n",
    "\n",
    "n = int(input(\"Introduce un número: \"))\n",
    "print(esprimo(n))"
   ]
  },
  {
   "source": [
    "## EJERCICIO 6"
   ],
   "cell_type": "markdown",
   "metadata": {}
  },
  {
   "cell_type": "code",
   "execution_count": 27,
   "metadata": {},
   "outputs": [
    {
     "output_type": "stream",
     "name": "stdout",
     "text": [
      "0\n1\n2\n3\n5\n7\n11\n13\n17\n19\n23\n29\n31\n37\n41\n43\n47\n53\n59\n61\n67\n71\n73\n"
     ]
    }
   ],
   "source": [
    "n = int(input(\"Introduce un número: \"))\n",
    "for i in range(n+1):\n",
    "    if esprimo(i):\n",
    "        print(i)"
   ]
  },
  {
   "source": [
    "## EJERCICIO 7"
   ],
   "cell_type": "markdown",
   "metadata": {}
  },
  {
   "cell_type": "code",
   "execution_count": 28,
   "metadata": {},
   "outputs": [
    {
     "output_type": "stream",
     "name": "stdout",
     "text": [
      "{'Pedro': 53.4, 'María': 65.6, 'Marta': 64.5}\n"
     ]
    }
   ],
   "source": [
    "personas = {'Pedro': 28, 'María': 21, 'Marta': 22}\n",
    "esperanza_adicional = {28: 53.4, 21: 65.6, 22: 64.5}\n",
    "\n",
    "# FORMA INICIAL\n",
    "# for persona,edad in personas.items():\n",
    "#    personas_esperanza[persona] = esperanza_adicional[edad]\n",
    "\n",
    "personas_esperanza = {\n",
    "    persona: esperanza_adicional[edad] for persona, edad in personas.items()\n",
    "}\n",
    "\n",
    "print(personas_esperanza)"
   ]
  },
  {
   "cell_type": "code",
   "execution_count": null,
   "metadata": {},
   "outputs": [],
   "source": []
  }
 ]
}